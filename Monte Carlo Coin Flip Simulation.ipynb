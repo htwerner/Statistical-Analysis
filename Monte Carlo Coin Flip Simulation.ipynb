{
 "cells": [
  {
   "cell_type": "markdown",
   "metadata": {},
   "source": [
    "# Monte Carlo Coin Flip Simulation"
   ]
  },
  {
   "cell_type": "markdown",
   "metadata": {},
   "source": [
    "The basic principle of the Monte Carlo Method is to implement on a computer the <b>Strong Law of Large Numbers (SLLN)</b>.\n",
    "\n",
    "If we can generate a sequence $X_1, X_2, X_3, \\ldots$ of i.i.d. random variables (i.e., independent and identically distributed) with finite mean $\\mathbb{E}[X_1] = \\mu$, then the SLLN guarantees that the <i>sample mean</i> (or <i>empirical mean</i>)\n",
    "\n",
    "$$ \\bar{X}_n = \\frac{X_1 + X_2 + \\ldots + X_n}{n} ç \\mu \\qquad \\text{as } n \\rightarrow \\infty \\text{ with probability 1}.$$\n",
    "\n",
    "In other words, $\\bar{X}_n$ is a good approximation for $\\mu$ if the number of simulations $n$ is large enough:\n",
    "\n",
    "$$ \\bar{X}_n \\approx \\mu \\qquad \\text{for } n \\text{ large}.$$"
   ]
  },
  {
   "cell_type": "markdown",
   "metadata": {},
   "source": [
    "In addition, if we are interested in approximating the probability that some event $A$ occurs, we might adopt the SLLN as follows: We simulate repeated independent trials of a random experiment and define the sequence of random variables $X_1, X_2,\\dots$ via\n",
    "\n",
    "$$ X_i = \\begin{cases} 1 & \\text{if $A$ occurs on the $i$-th simulation} \\\\ 0 & \\text{if $A$ does not occur on the $i$-th simulation} \\end{cases} \\qquad (i = 1,2,3,\\ldots).$$\n",
    "\n",
    "Then, $\\bar{X}_n$ is the proportion of the $n$ trials in which $A$ occurs. By construction the random variables $X_1, X_2,\\dots$ are independent and identically distributed with mean $\\mathbb{E}[X_1] = \\mathbb{P}[A]$. Thus, by the SLLN we again obtain\n",
    "\n",
    "$$ \\bar{X}_n = \\frac{X_1 + X_2 + \\ldots + X_n}{n} \\longrightarrow \\mathbb{P}[A] \\qquad \\text{as } n \\rightarrow \\infty \\text{ with probability 1},$$\n",
    "\n",
    "and hence \n",
    "\n",
    "$$ \\bar{X}_n \\approx \\mathbb{P}[A] \\qquad \\text{for } n \\text{ large}.$$\n",
    "\n"
   ]
  },
  {
   "cell_type": "code",
   "execution_count": 1,
   "metadata": {},
   "outputs": [],
   "source": [
    "import numpy as np\n",
    "import math\n",
    "import matplotlib.pyplot as plt\n",
    "%matplotlib inline"
   ]
  },
  {
   "cell_type": "markdown",
   "metadata": {},
   "source": [
    "We'll consider flipping a coin $n$ times. The probability for heads is given by $p$ where $p$ is some parameter which can be chosen from the interval $(0,1)$. \n",
    "\n",
    "We'll write a Python code to simulate $n$ coin flips with heads probability $p$ and compute the running proportion of heads $\\bar{X}_n$ for $n$ running from 1 to 1,000 trials."
   ]
  },
  {
   "cell_type": "code",
   "execution_count": 2,
   "metadata": {},
   "outputs": [],
   "source": [
    "def coinSim(p):\n",
    "    simArray = []\n",
    "    uArray = [1 if x < p else 0 for x in np.random.random_sample(1000)]\n",
    "    simSum = 0\n",
    "    for n in range(1,1001):\n",
    "        simSum += uArray[n-1]\n",
    "        simMean = simSum/n\n",
    "        simArray.append(simMean)\n",
    "    return simArray"
   ]
  },
  {
   "cell_type": "markdown",
   "metadata": {},
   "source": [
    "We'll use a plot to illustrate how the proportion of heads appears to converge to $p$ as $n$ approaches 1,000."
   ]
  },
  {
   "cell_type": "code",
   "execution_count": 3,
   "metadata": {},
   "outputs": [
    {
     "data": {
      "text/plain": [
       "<matplotlib.legend.Legend at 0x1145c9128>"
      ]
     },
     "execution_count": 3,
     "metadata": {},
     "output_type": "execute_result"
    },
    {
     "data": {
      "image/png": "[encoded data removed]",
      "text/plain": [
       "<Figure size 720x360 with 1 Axes>"
      ]
     },
     "metadata": {
      "needs_background": "light"
     },
     "output_type": "display_data"
    }
   ],
   "source": [
    "p = 0.25\n",
    "\n",
    "plt.figure(figsize=(10,5))\n",
    "plt.title(\"Proportion of heads in 1,000 coin flips\")\n",
    "plt.plot(np.arange(1000),p*np.ones(1000),'-',color=\"red\",label=\"true probability\")\n",
    "plt.plot(np.arange(1000),coinSim(p),'-',color=\"blue\",label=\"simulation\")\n",
    "plt.xlabel(\"Number of coin flips\")\n",
    "plt.ylabel(\"Running average\")\n",
    "plt.legend(loc=\"upper right\")"
   ]
  },
  {
   "cell_type": "code",
   "execution_count": null,
   "metadata": {},
   "outputs": [],
   "source": []
  }
 ],
 "metadata": {
  "anaconda-cloud": {},
  "kernelspec": {
   "display_name": "Python 3",
   "language": "python",
   "name": "python3"
  },
  "language_info": {
   "codemirror_mode": {
    "name": "ipython",
    "version": 3
   },
   "file_extension": ".py",
   "mimetype": "text/x-python",
   "name": "python",
   "nbconvert_exporter": "python",
   "pygments_lexer": "ipython3",
   "version": "3.7.3"
  }
 },
 "nbformat": 4,
 "nbformat_minor": 2
}
