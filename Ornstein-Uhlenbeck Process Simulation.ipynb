{
 "cells": [
  {
   "cell_type": "markdown",
   "metadata": {},
   "source": [
    "# Ornstein-Uhlenbeck Process Simulation"
   ]
  },
  {
   "cell_type": "markdown",
   "metadata": {},
   "source": [
    "To demonstrate simulation of the Ornstein-Uhlenbeck process, we'll simulate the following process...\n",
    "\n",
    "$$ dX_t = -2X_tdt + 3dB_t, X_0 = 2, $$\n",
    "\n",
    "with step $0.01$, for time horizon $T = 1$.\n",
    "\n",
    "We'll repeat this 1000 times, find empirical mean $\\mathbb{E}(X_1)$, and compare this with the true value."
   ]
  },
  {
   "cell_type": "markdown",
   "metadata": {},
   "source": [
    "## Exact Solution:"
   ]
  },
  {
   "cell_type": "markdown",
   "metadata": {},
   "source": [
    "The SDE for the Ornstein-Uhlenbeck process is...\n",
    "\n",
    "$$ dX_t = -r(X_t - \\mu)dt + \\sigma B_t $$\n",
    "\n",
    "Thus, for the Ornstein-Uhlenbeck process defined above, we have $\\mu = 0$, $r = 2$, and $\\sigma = 3$.\n",
    "\n",
    "Since $X_0 = 2$ is constant, then by the equation...\n",
    "\n",
    "$$ \\int_{0}^{t} g(s) dB_s \\sim \\text{Normal} \\left( 0, \\int_{0}^{t} g^2(s) ds \\right), $$\n",
    "\n",
    "we know...\n",
    "\n",
    "$$ \\mathbb{E}(X_t) = \\mu + (X_0 - \\mu)e^{-rt}. $$\n",
    "\n",
    "Thus, our exact expectation for $t = 1$ is calculated to be...\n",
    "\n",
    "$$ \\mathbb{E}(X_1) = 0 + (2 - 0)e^{-2*1} = 2e^{-2} = 0.2707 $$"
   ]
  },
  {
   "cell_type": "markdown",
   "metadata": {},
   "source": [
    "## Simulation:"
   ]
  },
  {
   "cell_type": "markdown",
   "metadata": {},
   "source": [
    "To approximate the SDE...\n",
    "\n",
    "$$ dX_t = -2X_tdt + 3dB_t \\text{ for } X_0 = 2,$$\n",
    "\n",
    "we will use the approximation...\n",
    "\n",
    "$$ X_{k+1} = X_k - r\\frac{T}{n}(X_k - \\mu) + \\sigma Z_i \\sqrt{T/n} \\text{ for } k = 0, 1, \\dots, n-1. $$\n",
    "\n",
    "For $\\mu = 0$, $r = 2$, $\\sigma = 3$, $T = 1$, and $n = 100$, this simplifies to...\n",
    "\n",
    "$$ X_{k+1} = 0.98X_k + 0.3Z_k \\text{ for } k = 0, 1, \\dots, n-1. $$\n",
    "\n",
    "Solving the recursion, we find...\n",
    "\n",
    "$$ X_{n} = 0.98^{n} X_0 + \\sum_{i=0}^{n-1} \\left[ 0.3Z_i(0.98)^{n-i-1} \\right] \\text{ for } n = 100.$$\n",
    "\n",
    "This method generations a discretized approximate sample path for $(X_t)_{0 \\leq t \\leq T}$, from which we will calculate the empirical value of $\\mathbb{E}(X_1)$."
   ]
  },
  {
   "cell_type": "code",
   "execution_count": 1,
   "metadata": {},
   "outputs": [],
   "source": [
    "import numpy as np\n",
    "import math\n",
    "import matplotlib.pyplot as plt"
   ]
  },
  {
   "cell_type": "code",
   "execution_count": 2,
   "metadata": {},
   "outputs": [
    {
     "data": {
      "text/plain": [
       "0.2657431064555142"
      ]
     },
     "execution_count": 2,
     "metadata": {},
     "output_type": "execute_result"
    }
   ],
   "source": [
    "# t = end of interval in [0,t]\n",
    "# n = number of increments between 0 and t\n",
    "# N = number of simulations\n",
    "\n",
    "def ornUhlenApprox():\n",
    "    X0 = 2\n",
    "    Z_array = np.random.normal(0,1,100)\n",
    "    Zsum = sum([0.3*Z_array[i]*((0.98)**(99-i)) for i in range(100)])\n",
    "    Xn = (0.98**100)*X0 + Zsum\n",
    "    return Xn\n",
    "\n",
    "def ornUhlenSim(N):\n",
    "    np.random.seed(0)\n",
    "    ornUhlenApproxs = [ornUhlenApprox() for i in range(N)]\n",
    "    empMean = np.mean(ornUhlenApproxs)\n",
    "    return empMean\n",
    "\n",
    "ornUhlenSim(1000)"
   ]
  },
  {
   "cell_type": "markdown",
   "metadata": {},
   "source": [
    "As seen in the simulation above, our empirical mean of the SDE of the given Ornstein-Uhlenbeck process is about $0.2657$. We observe that this value is very close to our calculated expectation, $\\mathbb{E}(X_1) = 0.2707$."
   ]
  },
  {
   "cell_type": "code",
   "execution_count": null,
   "metadata": {},
   "outputs": [],
   "source": []
  }
 ],
 "metadata": {
  "kernelspec": {
   "display_name": "Python 3",
   "language": "python",
   "name": "python3"
  },
  "language_info": {
   "codemirror_mode": {
    "name": "ipython",
    "version": 3
   },
   "file_extension": ".py",
   "mimetype": "text/x-python",
   "name": "python",
   "nbconvert_exporter": "python",
   "pygments_lexer": "ipython3",
   "version": "3.7.3"
  }
 },
 "nbformat": 4,
 "nbformat_minor": 2
}
