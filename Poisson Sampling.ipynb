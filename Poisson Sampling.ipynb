{
 "cells": [
  {
   "cell_type": "markdown",
   "metadata": {},
   "source": [
    "# Poisson Sampling"
   ]
  },
  {
   "cell_type": "markdown",
   "metadata": {},
   "source": [
    "We'll create a function poissonRV(seed, mean,n) that returns, for given seed, a bunch of $n$ Poisson distributed random numbers with the provided mean."
   ]
  },
  {
   "cell_type": "code",
   "execution_count": 1,
   "metadata": {},
   "outputs": [],
   "source": [
    "import numpy as np\n",
    "import math\n",
    "import matplotlib.pyplot as plt"
   ]
  },
  {
   "cell_type": "code",
   "execution_count": 2,
   "metadata": {},
   "outputs": [],
   "source": [
    "def poissonRV(seed, mean, n):\n",
    "    np.random.seed(seed)\n",
    "    m = mean\n",
    "    randomArray = np.random.random_sample(n)\n",
    "    poissonSample = []\n",
    "    for x in randomArray:\n",
    "        k = 0\n",
    "        poissSum = 0.0\n",
    "        done = False\n",
    "        while done == False:\n",
    "            poissSum += math.exp(-m)*((m**k)/math.factorial(k))\n",
    "            if poissSum > x:\n",
    "                poissonSample.append(k)\n",
    "                done = True\n",
    "            else:\n",
    "                k += 1\n",
    "    return poissonSample"
   ]
  },
  {
   "cell_type": "code",
   "execution_count": 3,
   "metadata": {},
   "outputs": [
    {
     "name": "stdout",
     "output_type": "stream",
     "text": [
      "[2, 3, 0, 1, 1]\n"
     ]
    }
   ],
   "source": [
    "print(poissonRV(1,2,5))"
   ]
  },
  {
   "cell_type": "code",
   "execution_count": 4,
   "metadata": {},
   "outputs": [
    {
     "data": {
      "image/png": "[encoded data removed]",
      "text/plain": [
       "<Figure size 432x288 with 1 Axes>"
      ]
     },
     "metadata": {
      "needs_background": "light"
     },
     "output_type": "display_data"
    }
   ],
   "source": [
    "numberSimulations = 10000\n",
    "poissonSamples = poissonRV(1,4,numberSimulations)\n",
    "\n",
    "plt.hist(poissonSamples,bins='auto')\n",
    "plt.title(\"Histogram Poisson\")\n",
    "plt.show()"
   ]
  },
  {
   "cell_type": "code",
   "execution_count": null,
   "metadata": {},
   "outputs": [],
   "source": []
  }
 ],
 "metadata": {
  "anaconda-cloud": {},
  "kernelspec": {
   "display_name": "Python 3",
   "language": "python",
   "name": "python3"
  },
  "language_info": {
   "codemirror_mode": {
    "name": "ipython",
    "version": 3
   },
   "file_extension": ".py",
   "mimetype": "text/x-python",
   "name": "python",
   "nbconvert_exporter": "python",
   "pygments_lexer": "ipython3",
   "version": "3.7.3"
  }
 },
 "nbformat": 4,
 "nbformat_minor": 2
}
