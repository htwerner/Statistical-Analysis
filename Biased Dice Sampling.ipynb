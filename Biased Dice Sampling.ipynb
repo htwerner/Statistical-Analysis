{
 "cells": [
  {
   "cell_type": "markdown",
   "metadata": {},
   "source": [
    "# Biased Dice Sampling"
   ]
  },
  {
   "cell_type": "markdown",
   "metadata": {},
   "source": [
    "We'll create a function funnyDiceRV(seed,n) that returns, for given seed, a bunch of $n$ random number which describe a biased die with distribution...\n",
    "$\\mathbb{P}(\\{1\\})=\\mathbb{P}(\\{2\\})=\\mathbb{P}(\\{3\\})=\\mathbb{P}(\\{4\\})=\\mathbb{P}(\\{5\\})=1/10$ and $\\mathbb{P}(\\{6\\})=1/2$."
   ]
  },
  {
   "cell_type": "code",
   "execution_count": 1,
   "metadata": {},
   "outputs": [],
   "source": [
    "import numpy as np\n",
    "import math\n",
    "import matplotlib.pyplot as plt"
   ]
  },
  {
   "cell_type": "code",
   "execution_count": 2,
   "metadata": {},
   "outputs": [],
   "source": [
    "def funnyDiceRV(seed, n):\n",
    "    np.random.seed(seed)\n",
    "    randomArray = np.random.random_sample(n)\n",
    "    funnyDiceSample = []\n",
    "    for x in randomArray:\n",
    "        if 0<=x<0.5:\n",
    "            funnyDiceSample.append(6)\n",
    "        elif 0.5<=x<0.6:\n",
    "            funnyDiceSample.append(5)\n",
    "        elif 0.6<=x<0.7:\n",
    "            funnyDiceSample.append(4)\n",
    "        elif 0.7<=x<0.8:\n",
    "            funnyDiceSample.append(3)\n",
    "        elif 0.8<=x<0.9:\n",
    "            funnyDiceSample.append(2)\n",
    "        elif 0.9<=x<1:\n",
    "            funnyDiceSample.append(1)\n",
    "    return funnyDiceSample"
   ]
  },
  {
   "cell_type": "code",
   "execution_count": 3,
   "metadata": {},
   "outputs": [
    {
     "name": "stdout",
     "output_type": "stream",
     "text": [
      "[6, 3, 6, 6, 6]\n"
     ]
    }
   ],
   "source": [
    "print(funnyDiceRV(1,5))"
   ]
  },
  {
   "cell_type": "markdown",
   "metadata": {},
   "source": [
    "You should use the following routine to plot a histogram of the distribution of all three simulated random variables"
   ]
  },
  {
   "cell_type": "code",
   "execution_count": 4,
   "metadata": {},
   "outputs": [
    {
     "data": {
      "image/png": "[encoded data removed]",
      "text/plain": [
       "<Figure size 432x288 with 1 Axes>"
      ]
     },
     "metadata": {
      "needs_background": "light"
     },
     "output_type": "display_data"
    }
   ],
   "source": [
    "numberSimulations = 10000\n",
    "funnyDiceSamples = funnyDiceRV(1,numberSimulations)\n",
    "\n",
    "plt.hist(funnyDiceSamples,bins='auto')\n",
    "plt.title(\"Histogram Funny Dice\")\n",
    "plt.show()"
   ]
  },
  {
   "cell_type": "code",
   "execution_count": null,
   "metadata": {},
   "outputs": [],
   "source": []
  }
 ],
 "metadata": {
  "anaconda-cloud": {},
  "kernelspec": {
   "display_name": "Python 3",
   "language": "python",
   "name": "python3"
  },
  "language_info": {
   "codemirror_mode": {
    "name": "ipython",
    "version": 3
   },
   "file_extension": ".py",
   "mimetype": "text/x-python",
   "name": "python",
   "nbconvert_exporter": "python",
   "pygments_lexer": "ipython3",
   "version": "3.7.3"
  }
 },
 "nbformat": 4,
 "nbformat_minor": 2
}
