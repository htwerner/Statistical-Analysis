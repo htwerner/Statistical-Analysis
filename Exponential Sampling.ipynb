{
 "cells": [
  {
   "cell_type": "markdown",
   "metadata": {},
   "source": [
    "# Exponential Sampling"
   ]
  },
  {
   "cell_type": "markdown",
   "metadata": {},
   "source": [
    "We write a function exponentialRV(seed, mean,n) that returns, for given seed, a bunch of $n$ random variables from an exponential distribution with the provided mean."
   ]
  },
  {
   "cell_type": "code",
   "execution_count": 1,
   "metadata": {},
   "outputs": [],
   "source": [
    "import numpy as np\n",
    "import math\n",
    "import matplotlib.pyplot as plt"
   ]
  },
  {
   "cell_type": "code",
   "execution_count": 2,
   "metadata": {},
   "outputs": [],
   "source": [
    "def exponentialRV(seed, mean,n):\n",
    "    np.random.seed(seed)\n",
    "    m = 1/mean\n",
    "    randomArray = np.random.random_sample(n)\n",
    "    exponentialSample = [(-np.log(1-x)/m) for x in randomArray]\n",
    "    return exponentialSample"
   ]
  },
  {
   "cell_type": "code",
   "execution_count": 3,
   "metadata": {},
   "outputs": [
    {
     "name": "stdout",
     "output_type": "stream",
     "text": [
      "[1.0792116745183709, 2.5482505060266085, 0.00022876271728617184, 0.720025509707838, 0.3174191903893478]\n"
     ]
    }
   ],
   "source": [
    "print(exponentialRV(1,2,5))"
   ]
  },
  {
   "cell_type": "code",
   "execution_count": 4,
   "metadata": {},
   "outputs": [
    {
     "data": {
      "image/png": "[encoded data removed]",
      "text/plain": [
       "<Figure size 432x288 with 1 Axes>"
      ]
     },
     "metadata": {
      "needs_background": "light"
     },
     "output_type": "display_data"
    }
   ],
   "source": [
    "numberSimulations = 10000\n",
    "exponentialSamples = exponentialRV(1,2,numberSimulations)\n",
    "\n",
    "plt.hist(exponentialSamples,bins='auto')\n",
    "plt.title(\"Histogram Exponential\")\n",
    "plt.show()"
   ]
  },
  {
   "cell_type": "markdown",
   "metadata": {},
   "source": [
    "We'll test the empirical expectation and variance of the random variables we generated. Assuming we have generated random variables $X_1,X_2,X_3,\\dots,X_n$, we calculate the empirical mean...\n",
    "\\begin{equation}\n",
    "\\hat{\\text{ }\\mu} =\\frac{\\sum^n_{i=1} X_i}{n}\n",
    "\\end{equation}\n",
    "and the empirical variance \n",
    "\\begin{equation}\n",
    "\\hat{\\text{ }\\sigma} = \\frac{\\sum^n_{i=1}(X_i - \\hat{\\mu})^2}{n}\n",
    "\\end{equation}\n",
    "using 10000 simulations."
   ]
  },
  {
   "cell_type": "code",
   "execution_count": 5,
   "metadata": {},
   "outputs": [
    {
     "name": "stdout",
     "output_type": "stream",
     "text": [
      "Empirical Mean = 1.9770938809848242\n",
      "Empirical Variance = 3.8485810293246394\n"
     ]
    }
   ],
   "source": [
    "n = len(exponentialSamples)\n",
    "expMean = sum(exponentialSamples)/n\n",
    "expVariance = sum([(x-expMean)**2 for x in exponentialSamples])/n\n",
    "print('Empirical Mean = ' + str(expMean))\n",
    "print('Empirical Variance = ' + str(expVariance))"
   ]
  },
  {
   "cell_type": "markdown",
   "metadata": {},
   "source": [
    "This is in line with what is expected. With an inputted mean of 2 for the exponential sample, we expect an empirical mean of approximately 2 and an empirical variance of approximately 4. These numbers are expected because for large n and a given mean of an exponential distribution, the empirical mean should be approximately equal to the mean and the empirical variance approximately equal to the mean squared."
   ]
  },
  {
   "cell_type": "code",
   "execution_count": null,
   "metadata": {},
   "outputs": [],
   "source": []
  }
 ],
 "metadata": {
  "anaconda-cloud": {},
  "kernelspec": {
   "display_name": "Python 3",
   "language": "python",
   "name": "python3"
  },
  "language_info": {
   "codemirror_mode": {
    "name": "ipython",
    "version": 3
   },
   "file_extension": ".py",
   "mimetype": "text/x-python",
   "name": "python",
   "nbconvert_exporter": "python",
   "pygments_lexer": "ipython3",
   "version": "3.7.3"
  }
 },
 "nbformat": 4,
 "nbformat_minor": 2
}
