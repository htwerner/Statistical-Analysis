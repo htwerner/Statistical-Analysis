{
 "cells": [
  {
   "cell_type": "markdown",
   "metadata": {},
   "source": [
    "# Stochastic Modeling for Car Insurance"
   ]
  },
  {
   "cell_type": "markdown",
   "metadata": {},
   "source": [
    "A stochastic model for a car insurance company's total cost of damages from traffic accidents goes back to the work by Van der Lann and Louter, \"A statistical model for the costs of passenger car traffic accidents\", Journal of the Royal Statistical Society (1986).\n",
    "\n",
    "For every $k=1,2,3\\ldots$ we denote by the random variable $X_k$ the US dollar amount of a damage from a policy holder's traffic accident which will occur during the year 2019.\n",
    "\n",
    "We assume that $X_1$, $X_2$,... is an i.i.d. (independent and identically distributed) sequence of exponentially distributed random variables with an average claim size of $\\$1,000$ USD. Suppose the (random) total number of accidents $N$ in 2019 is expected to be Poisson distributed with 20 claims on average.\n",
    "\n",
    "It is assumed that the number of accidents is independent of the US dollar amount of damages for each accident. That is, the random variable $N$ is independent of the random variables $X_1$, $X_2$,...\n",
    "\n",
    "The total costs for the insurance company by the end of 2019 will thus be given by the <b>random sum</b>...\n",
    "\n",
    "$$S_N := X_1 + X_2 + \\dots + X_N = \\sum_{k = 1}^{N} X_k.$$"
   ]
  },
  {
   "cell_type": "markdown",
   "metadata": {},
   "source": [
    "The goal of our analysis is to approximate...\n",
    "\n",
    "1. the expected total costs $$\\mathbb{E}[S_N]$$ for the insurance company in 2019, and\n",
    "\n",
    "\n",
    "2. the probabilities that the total cost will not exceed $K$ USD, i.e., \n",
    "\n",
    "$$\\mathbb{P}[S_N \\leq K] \\quad \\text{for} \\, K = \\$20000,\\, \\$40000,\\, \\$60000$$\n",
    "\n",
    "via simulation."
   ]
  },
  {
   "cell_type": "code",
   "execution_count": 1,
   "metadata": {},
   "outputs": [],
   "source": [
    "import numpy as np\n",
    "import math"
   ]
  },
  {
   "cell_type": "markdown",
   "metadata": {},
   "source": [
    "<b>Step 1:</b><br>\n",
    "First, we write a function which simulates the random variable $S_N$."
   ]
  },
  {
   "cell_type": "code",
   "execution_count": 2,
   "metadata": {},
   "outputs": [],
   "source": [
    "def randomSum(averageClaimSize,averageNumberOfClaims):\n",
    "    numberOfClaims = np.random.poisson(averageNumberOfClaims)\n",
    "    sampleRandomSum = sum([np.random.exponential(averageClaimSize) for x in range(numberOfClaims)])\n",
    "    return sampleRandomSum  "
   ]
  },
  {
   "cell_type": "code",
   "execution_count": 3,
   "metadata": {},
   "outputs": [
    {
     "data": {
      "text/plain": [
       "17573.49494592012"
      ]
     },
     "execution_count": 3,
     "metadata": {},
     "output_type": "execute_result"
    }
   ],
   "source": [
    "## Testing our function\n",
    "randomSum(1000,20)"
   ]
  },
  {
   "cell_type": "markdown",
   "metadata": {},
   "source": [
    "<b>Step 2:</b><br>We write a simulator function which uses the function <tt>randomSum()</tt> to simulate $M \\in \\mathbb{N}$ samples from the random variable $S_N$."
   ]
  },
  {
   "cell_type": "code",
   "execution_count": 4,
   "metadata": {},
   "outputs": [],
   "source": [
    "def simulator(averageClaimSize,averageNumberOfClaims,M):\n",
    "    samples = [randomSum(averageClaimSize,averageNumberOfClaims) for x in range(M)]\n",
    "    return samples"
   ]
  },
  {
   "cell_type": "code",
   "execution_count": 5,
   "metadata": {},
   "outputs": [
    {
     "data": {
      "text/plain": [
       "[17487.14992525941,\n",
       " 25117.98492050578,\n",
       " 21517.244128519527,\n",
       " 6605.160519893929,\n",
       " 19651.82458916048,\n",
       " 27314.87145852899,\n",
       " 13052.734037078937,\n",
       " 20828.19367793959,\n",
       " 9200.006651935206,\n",
       " 12402.87463689419]"
      ]
     },
     "execution_count": 5,
     "metadata": {},
     "output_type": "execute_result"
    }
   ],
   "source": [
    "## Testing our function\n",
    "simulator(1000,20,10)"
   ]
  },
  {
   "cell_type": "markdown",
   "metadata": {},
   "source": [
    "<b>Step 3:</b><br>It holds via the so-called <b>Wald's Identity</b> that the expectation of the random sum $S_N$ is actually given by the formula\n",
    "\n",
    "\\begin{equation}\n",
    "\\mathbb{E}[S_N] = \\mathbb{E}[N] \\cdot \\mathbb{E}[X_1] = 20 \\cdot \\$1,000 = \\$20,000.\n",
    "\\end{equation}\n",
    "\n",
    "We'll check via the empirical mean that\n",
    "\n",
    "$$ \\$20,000 = \\mathbb{E}[S_N] \\approx \\frac{1}{M} \\sum_{m=1}^M s^{(m)}_N$$\n",
    "\n",
    "where $s^{(1)}_N, s^{(2)}_N, \\ldots, s^{(M)}_N$ denote $M$ independent realizations (samples) from the random variable $S_N$. Use $M = 10, 100, 1000, 10000$ simulations.  "
   ]
  },
  {
   "cell_type": "markdown",
   "metadata": {},
   "source": [
    "We write a function <tt>MCsimulation()</tt> which uses the function <tt>simulator()</tt> to compute the empirical mean."
   ]
  },
  {
   "cell_type": "code",
   "execution_count": 6,
   "metadata": {},
   "outputs": [],
   "source": [
    "def MCsimulation(averageClaimSize,averageNumberOfClaims,M):\n",
    "    empiricalMean = sum(simulator(averageClaimSize,averageNumberOfClaims,M))/M\n",
    "    return empiricalMean"
   ]
  },
  {
   "cell_type": "code",
   "execution_count": 7,
   "metadata": {},
   "outputs": [
    {
     "name": "stdout",
     "output_type": "stream",
     "text": [
      "20036.18846339164\n",
      "20883.690092824807\n",
      "20335.455520416715\n",
      "20036.131589115816\n"
     ]
    }
   ],
   "source": [
    "## Testing our function\n",
    "print(MCsimulation(1000,20,10))\n",
    "print(MCsimulation(1000,20,100))\n",
    "print(MCsimulation(1000,20,1000))\n",
    "print(MCsimulation(1000,20,10000))"
   ]
  },
  {
   "cell_type": "code",
   "execution_count": 8,
   "metadata": {},
   "outputs": [
    {
     "name": "stdout",
     "output_type": "stream",
     "text": [
      "1056.798981134103\n",
      "1120.1173330961828\n",
      "40.29723563662992\n",
      "2.0122029191916226\n",
      "12.064044342310808\n",
      "24.561721672627755\n"
     ]
    }
   ],
   "source": [
    "## Computing the absolute error\n",
    "print(np.absolute(MCsimulation(1000,20,10)-20000))\n",
    "print(np.absolute(MCsimulation(1000,20,100)-20000))\n",
    "print(np.absolute(MCsimulation(1000,20,1000)-20000))\n",
    "print(np.absolute(MCsimulation(1000,20,10000)-20000))\n",
    "print(np.absolute(MCsimulation(1000,20,20000)-20000))\n",
    "print(np.absolute(MCsimulation(1000,20,50000)-20000))"
   ]
  },
  {
   "cell_type": "markdown",
   "metadata": {},
   "source": [
    "<b>Step 4:</b><br>The desired probabilities $\\mathbb{P}[S_N \\leq K]$ for $K = \\$20000,\\, \\$400000,\\, \\$600000$ can be computed as expectations via an indicator function\n",
    "\n",
    "$$ \\mathbb{P}[S_N \\leq K] = \\mathbb{E}[1_{\\{S_N \\leq K\\}}].$$\n",
    "\n",
    "We use once more the empricial mean to approximate\n",
    "\n",
    "$$ \\mathbb{E}[1_{\\{S_N \\leq K\\}}] \\approx \\frac{1}{M} \\sum_{m=1}^M 1_{\\{s^{(m)}_N \\leq K \\}}$$\n",
    "\n",
    "with $M$ independent realizations (samples) from the random variable $S_N$ (again denoted by $s^{(1)}_N, s^{(2)}_N, \\ldots, s^{(M)}_N$)."
   ]
  },
  {
   "cell_type": "markdown",
   "metadata": {},
   "source": [
    "We'll write a function <tt>MCprobEstimation()</tt> which estimates the probabilities $\\mathbb{P}[S_N \\leq K]$ for $K = \\$20000,\\, \\$400000,\\, \\$600000$ as described based on $M$ simulations of $S_N$."
   ]
  },
  {
   "cell_type": "code",
   "execution_count": 9,
   "metadata": {},
   "outputs": [],
   "source": [
    "def MCprobEstimation(averageClaimSize, averageNumberOfClaims, K, M):\n",
    "    indicatorArray = [1 if x <= K else 0 for x in simulator(averageClaimSize,averageNumberOfClaims,M)]\n",
    "    empiricalProb = sum(indicatorArray)/M\n",
    "    return empiricalProb"
   ]
  },
  {
   "cell_type": "code",
   "execution_count": 10,
   "metadata": {},
   "outputs": [
    {
     "data": {
      "text/plain": [
       "0.7"
      ]
     },
     "execution_count": 10,
     "metadata": {},
     "output_type": "execute_result"
    }
   ],
   "source": [
    "## Testing our function\n",
    "MCprobEstimation(1000, 20, 20000, 10)"
   ]
  },
  {
   "cell_type": "markdown",
   "metadata": {},
   "source": [
    "Testing our function for all $K = \\$20000,\\, \\$40000,\\, \\$60000$ with varying $M = 100, 1000, 10000$ simulations:"
   ]
  },
  {
   "cell_type": "code",
   "execution_count": 11,
   "metadata": {},
   "outputs": [
    {
     "name": "stdout",
     "output_type": "stream",
     "text": [
      "0.54\n",
      "0.586\n",
      "0.5337\n"
     ]
    }
   ],
   "source": [
    "print(MCprobEstimation(1000,20,20000,100))\n",
    "print(MCprobEstimation(1000,20,20000,1000))\n",
    "print(MCprobEstimation(1000,20,20000,10000))"
   ]
  },
  {
   "cell_type": "code",
   "execution_count": 12,
   "metadata": {},
   "outputs": [
    {
     "name": "stdout",
     "output_type": "stream",
     "text": [
      "1.0\n",
      "0.993\n",
      "0.9969\n"
     ]
    }
   ],
   "source": [
    "print(MCprobEstimation(1000,20,40000,100))\n",
    "print(MCprobEstimation(1000,20,40000,1000))\n",
    "print(MCprobEstimation(1000,20,40000,10000))"
   ]
  },
  {
   "cell_type": "code",
   "execution_count": 13,
   "metadata": {},
   "outputs": [
    {
     "name": "stdout",
     "output_type": "stream",
     "text": [
      "1.0\n",
      "1.0\n",
      "1.0\n"
     ]
    }
   ],
   "source": [
    "print(MCprobEstimation(1000,20,60000,100))\n",
    "print(MCprobEstimation(1000,20,60000,1000))\n",
    "print(MCprobEstimation(1000,20,60000,10000))"
   ]
  },
  {
   "cell_type": "code",
   "execution_count": null,
   "metadata": {},
   "outputs": [],
   "source": []
  }
 ],
 "metadata": {
  "anaconda-cloud": {},
  "kernelspec": {
   "display_name": "Python 3",
   "language": "python",
   "name": "python3"
  },
  "language_info": {
   "codemirror_mode": {
    "name": "ipython",
    "version": 3
   },
   "file_extension": ".py",
   "mimetype": "text/x-python",
   "name": "python",
   "nbconvert_exporter": "python",
   "pygments_lexer": "ipython3",
   "version": "3.7.3"
  }
 },
 "nbformat": 4,
 "nbformat_minor": 2
}
