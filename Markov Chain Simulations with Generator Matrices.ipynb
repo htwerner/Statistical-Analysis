{
 "cells": [
  {
   "cell_type": "markdown",
   "metadata": {},
   "source": [
    "# Markov Chain Simulations with Generator Matrices"
   ]
  },
  {
   "cell_type": "code",
   "execution_count": 1,
   "metadata": {},
   "outputs": [],
   "source": [
    "import numpy as np\n",
    "import math\n",
    "import matplotlib.pyplot as plt"
   ]
  },
  {
   "cell_type": "markdown",
   "metadata": {},
   "source": [
    "## Stationary Distribution"
   ]
  },
  {
   "cell_type": "markdown",
   "metadata": {},
   "source": [
    "We will simulate a continuous-time Markov chain with generator\n",
    "\n",
    "$$Q=\\begin{pmatrix}-3&1&2\\\\2&-5&3\\\\5&0&-5\\end{pmatrix},$$\n",
    "\n",
    "starting from state 1 until time $T=100$.\n",
    "\n",
    "We will find the stationary distribution by calculating the share of time spent in each state and compare this with the theoretical value."
   ]
  },
  {
   "cell_type": "markdown",
   "metadata": {},
   "source": [
    "### Calculated Solution:"
   ]
  },
  {
   "cell_type": "markdown",
   "metadata": {},
   "source": [
    "Before simulating the CTMC for our solution, we will calculate the theoretical stationary distribution below...\n",
    "\n",
    "To solve for the stationary distribution, $\\pi$, we use the equations ${\\pi}Q=0$ and $\\sum{\\pi_j} = 1$.\n",
    "\n",
    "This gives us...\n",
    "\n",
    "$$\\begin{cases}\n",
    "    -3\\pi_1 + 2\\pi_2 + 5\\pi_3 = 0 & \\mbox{(1)}\\\\\n",
    "    \\pi_1 - 5\\pi_2 = 0 & \\mbox{(2)}\\\\\n",
    "    2\\pi_1 + 3\\pi_2 - 5\\pi_3 = 0 & \\mbox{(3)}\\\\\n",
    "    \\pi_1 + \\pi_2 + \\pi_3 = 1 & \\mbox{(4)}\n",
    "\\end{cases}$$\n",
    "\n",
    "Solving $(2)$ we see $\\pi_1 = 5\\pi_2$.\n",
    "\n",
    "Plugging this into $(3)$ we see $\\pi_3 = \\frac{13}{5}\\pi_2$.\n",
    "\n",
    "Plugging this into $(4)$ we have $5\\pi_2 + \\pi_2 + \\frac{13}{5}\\pi_2 = 1$, which gives us $\\pi_2 = \\frac{5}{43}$.\n",
    "\n",
    "Thus, our stationary distribution is...\n",
    "\n",
    "$$\\pi = \\left( \\frac{25}{43}, \\frac{5}{43}, \\frac{13}{43} \\right) = \\left(0.5814, 0.1163, 0.3023 \\right)$$"
   ]
  },
  {
   "cell_type": "markdown",
   "metadata": {},
   "source": [
    "### Empirical Solution:"
   ]
  },
  {
   "cell_type": "markdown",
   "metadata": {},
   "source": [
    "Our empirical solution will have two functions.\n",
    "\n",
    "The first function, $q1Ctmc()$, will simulate the CTMC, $(X_t)_{t \\geq 0}$, until $T=100$, returning the time of transition and the new state. It will use a while statement to process through the CTMC until reaching $t>100$, transitioning between states based on the generator function and whichever exponential RV generates the smaller time frame (as if we were measuring which alarm clock goes off first). After $t>100$, we delete the last time step and replace it with $t=100$ and whichever state we ended in, to show whichever state we finished in and for use in calculating our stationary distribution.\n",
    "\n",
    "The second function, $q1StatDist()$, will use the output from the first function to calculate the share of time that the Markov chain spent in each state. In other words, it calculates the stationary distribution. It does this by recording whichever state the CTMC was in, calculating the time spent before transitioning to the next state, and adding that amount to the state's running total. After iterating through the entire CTMC, we then divide these running time totals by 100 to calculate the share of time spent in each state."
   ]
  },
  {
   "cell_type": "code",
   "execution_count": 2,
   "metadata": {},
   "outputs": [
    {
     "data": {
      "text/plain": [
       "[0.5534305186860439, 0.1529382222711811, 0.29363125904277504]"
      ]
     },
     "execution_count": 2,
     "metadata": {},
     "output_type": "execute_result"
    }
   ],
   "source": [
    "def q1Ctmc():\n",
    "    state = 1\n",
    "    t = 0\n",
    "    ctmc = [(t,state)]\n",
    "    while t < 100:\n",
    "        if state == 1:\n",
    "            to2 = np.random.exponential(1)\n",
    "            to3 = np.random.exponential(1/2)\n",
    "            if to2 < to3:\n",
    "                t += to2\n",
    "                state = 2\n",
    "            else:\n",
    "                t += to3\n",
    "                state = 3\n",
    "        elif state == 2:\n",
    "            to1 = np.random.exponential(1/2)\n",
    "            to3 = np.random.exponential(1/3)\n",
    "            if to1 < to3:\n",
    "                t += to1\n",
    "                state = 1\n",
    "            else:\n",
    "                t += to3\n",
    "                state = 3\n",
    "        elif state == 3:\n",
    "            to1 = np.random.exponential(1/5)\n",
    "            t += to1\n",
    "            state = 1\n",
    "        ctmc.append((t,state))\n",
    "    ctmc[-1] = (100,ctmc[-2][1])\n",
    "    return ctmc\n",
    "\n",
    "def q1StatDist():\n",
    "    np.random.seed(0)\n",
    "    ctmc = q1Ctmc()\n",
    "    statDist = [0,0,0]\n",
    "    for i in range(1,len(ctmc)):\n",
    "        if ctmc[i-1][1] == 1:\n",
    "            statDist[0] += ctmc[i][0] - ctmc[i-1][0]\n",
    "        elif ctmc[i-1][1] == 2:\n",
    "            statDist[1] += ctmc[i][0] - ctmc[i-1][0]\n",
    "        elif ctmc[i-1][1] == 3:\n",
    "            statDist[2] += ctmc[i][0] - ctmc[i-1][0]\n",
    "    statDist = [x/100 for x in statDist]\n",
    "    return statDist\n",
    "\n",
    "q1StatDist()"
   ]
  },
  {
   "cell_type": "markdown",
   "metadata": {},
   "source": [
    "Even running this simulation once to $T=100$, we find an empirical stationary distribution that is close to our theoretical stationary distribution.\n",
    "\n",
    "Our empirical stationary distribution, $\\hat{\\pi}$, is...\n",
    "\n",
    "$$\\hat{\\pi} = \\left( 0.5534, 0.1529, 0.2936 \\right),$$\n",
    "\n",
    "while our theoretical $\\pi$ calculated above was...\n",
    "\n",
    "$$\\pi = \\left(0.5814, 0.1163, 0.3023 \\right).$$"
   ]
  },
  {
   "cell_type": "markdown",
   "metadata": {},
   "source": [
    "# Empirical Distribution at $t>0$"
   ]
  },
  {
   "cell_type": "markdown",
   "metadata": {},
   "source": [
    "We will simulate 1000 times, starting from state 2, a continuous-time Markov chain with generator\n",
    "\n",
    "$$Q=\\begin{pmatrix}-3&3\\\\2&-2\\end{pmatrix}$$\n",
    "\n",
    "We'll find the empirical distribution of this chain at time $t=2$ and compare this with the theoretical value."
   ]
  },
  {
   "cell_type": "markdown",
   "metadata": {},
   "source": [
    "## Calculated Solution:"
   ]
  },
  {
   "cell_type": "markdown",
   "metadata": {},
   "source": [
    "Before simulating the CTMC for our solution, we will calculate the theoretical distribution below...\n",
    "\n",
    "We have the transition matrix...\n",
    "\n",
    "$$P(t)=\\begin{pmatrix}P_{11}(t)&P_{12}(t)\\\\P_{21}(t)&P_{22}(t)\\end{pmatrix}$$\n",
    "\n",
    "which, for a two-state CTMC with $q_1 = \\lambda$ and $q_2 = \\mu$, equals...\n",
    "\n",
    "$$P(t)=\\frac{1}{\\lambda + \\mu}\\begin{pmatrix}\n",
    "    \\mu + \\lambda e^{-(\\lambda + \\mu)t}&\n",
    "    \\lambda - \\lambda e^{-(\\lambda + \\mu)t}\\\\\n",
    "    \\mu - \\mu e^{-(\\lambda + \\mu)t}&\n",
    "    \\lambda + \\mu e^{-(\\lambda + \\mu)t}\n",
    "\\end{pmatrix}.$$\n",
    "\n",
    "For our given generator function with $q_1 = 3$ and $q_2 = 2$, we have...\n",
    "\n",
    "$$P(t)=\\begin{pmatrix}\n",
    "    \\frac{2 + 3e^{-5t}}{5}&\n",
    "    \\frac{3 - 3e^{-5t}}{5}\\\\\n",
    "    \\frac{2 - 2e^{-5t}}{5}&\n",
    "    \\frac{3 + 2e^{-5t}}{5}\n",
    "\\end{pmatrix},$$\n",
    "\n",
    "and for $t = 2$, we calculate our theoretical distribution to be...\n",
    "\n",
    "$$P(2)=\\begin{pmatrix}\n",
    "    0.4&\n",
    "    0.6\\\\\n",
    "    0.4&\n",
    "    0.6\n",
    "\\end{pmatrix}.$$\n",
    "\n",
    "Thus, since our CTMC is starting in state 2, the probability of ending up in state 1 at time $t=2$ is equal to $P_{21}(2) = 0.4$. The probability of ending up back in state 2 at time $t=2$, considering all possible transitions, is equal to $P_{22}(2) = 0.6$.\n",
    "\n",
    "Placing these probabilities into equation form...\n",
    "\n",
    "$$\\mathbb{P}(X_2 = 1 | X_0 = 2) = 0.4$$\n",
    "$$\\mathbb{P}(X_2 = 2 | X_0 = 2) = 0.6$$"
   ]
  },
  {
   "cell_type": "markdown",
   "metadata": {},
   "source": [
    "## Empirical Solution:"
   ]
  },
  {
   "cell_type": "markdown",
   "metadata": {},
   "source": [
    "Our solution will have two functions.\n",
    "\n",
    "The first function, $q2Ctmc()$, will simulate the CTMC, $(X_t)_{t \\geq 0}$, for 1000 steps, returning the time of transition and the new state at each step. It will transition between states 1 and 2 based on the generator function, transitioning after an amount of time dictated by the exponential RV in each step.\n",
    "\n",
    "The second function, $q2EmpDist()$, will calculate the time spent in each state until t=2 and print the values. It will also plot the simulated CTMC until t=2. These will demonstrate our empirical distribution for the simulated sample."
   ]
  },
  {
   "cell_type": "code",
   "execution_count": 3,
   "metadata": {},
   "outputs": [
    {
     "name": "stdout",
     "output_type": "stream",
     "text": [
      "Proportion of time spent in state 1: 0.37500004413338656\n",
      "Proportion of time spent in state 2: 0.6249999558666134\n",
      "Disribution until t=2:\n"
     ]
    },
    {
     "data": {
      "image/png": "[encoded data removed]",
      "text/plain": [
       "<Figure size 432x288 with 1 Axes>"
      ]
     },
     "metadata": {
      "needs_background": "light"
     },
     "output_type": "display_data"
    }
   ],
   "source": [
    "def q2Ctmc():\n",
    "    state = 2\n",
    "    t = 0\n",
    "    ctmc = [(t,state)]\n",
    "    for n in range(1000):\n",
    "        if state == 1:\n",
    "            to2 = np.random.exponential(1/3)\n",
    "            t += to2\n",
    "            state = 2\n",
    "        elif state == 2:\n",
    "            to1 = np.random.exponential(1/2)\n",
    "            t += to1\n",
    "            state = 1\n",
    "        ctmc.append((t,state))\n",
    "    return ctmc\n",
    "\n",
    "def q2Dist(t):\n",
    "    np.random.seed(0)\n",
    "    ctmc = q2Ctmc()\n",
    "    dist = [0,0]\n",
    "    i = 1\n",
    "    while ctmc[i][0]<2:\n",
    "        if ctmc[i-1][1] == 1:\n",
    "            dist[0] += ctmc[i][0] - ctmc[i-1][0]\n",
    "        elif ctmc[i-1][1] == 2:\n",
    "            dist[1] += ctmc[i][0] - ctmc[i-1][0]\n",
    "        i += 1\n",
    "    dist = [x/sum(dist) for x in dist]\n",
    "    print('Proportion of time spent in state 1: ' + str(dist[0]))\n",
    "    print('Proportion of time spent in state 2: ' + str(dist[1]))\n",
    "    \n",
    "    plots = []\n",
    "    i = 0\n",
    "    while ctmc[i][0]<2:\n",
    "        t = ctmc[i][0]\n",
    "        tNext = ctmc[i+1][0]\n",
    "        if tNext > 2:\n",
    "            tNext = 2\n",
    "        state = ctmc[i][1]\n",
    "        stateNext = ctmc[i+1][1]\n",
    "        plots.append(((t,tNext),(state,state)))\n",
    "        if i != 0:\n",
    "            plots.append(((t,t),(state,stateNext)))\n",
    "        i+=1\n",
    "    print('Disribution until t=2:')\n",
    "    for x in plots:\n",
    "        if x[0][0] != x[0][1]:\n",
    "            plt.plot(x[0],x[1],'b')\n",
    "        else:\n",
    "            plt.plot(x[0],x[1],'r--')\n",
    "    plt.xlabel('t')\n",
    "    plt.ylabel('State')\n",
    "    \n",
    "q2Dist(2)"
   ]
  },
  {
   "cell_type": "markdown",
   "metadata": {},
   "source": [
    "Note that the proportion of time spent in each state, simulated above, is nearly our calculated distribution.\n",
    "\n",
    "Above, we calculated...\n",
    "\n",
    "$$\\mathbb{P}(X_2 = 1 | X_0 = 2) = 0.39998184$$\n",
    "and...\n",
    "$$\\mathbb{P}(X_2 = 2 | X_0 = 2) = 0.60001816.$$\n",
    "\n",
    "In comparison, we simulated the proportion spent in state 1 to be $0.375$ and the proportion spent in state 2 to be $0.625$."
   ]
  },
  {
   "cell_type": "code",
   "execution_count": null,
   "metadata": {},
   "outputs": [],
   "source": []
  }
 ],
 "metadata": {
  "kernelspec": {
   "display_name": "Python 3",
   "language": "python",
   "name": "python3"
  },
  "language_info": {
   "codemirror_mode": {
    "name": "ipython",
    "version": 3
   },
   "file_extension": ".py",
   "mimetype": "text/x-python",
   "name": "python",
   "nbconvert_exporter": "python",
   "pygments_lexer": "ipython3",
   "version": "3.7.3"
  }
 },
 "nbformat": 4,
 "nbformat_minor": 2
}
