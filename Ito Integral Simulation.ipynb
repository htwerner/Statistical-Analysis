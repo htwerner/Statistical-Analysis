{
 "cells": [
  {
   "cell_type": "markdown",
   "metadata": {},
   "source": [
    "# Ito Integral Simulation"
   ]
  },
  {
   "cell_type": "markdown",
   "metadata": {},
   "source": [
    "To demonstrate simulation of an Ito integral, we will simulate the following Ito integral 1000 times with step size 0.01...\n",
    "\n",
    "$$\\int_{0}^{2} e^{B_s}dB_s.$$\n",
    "\n",
    "We'll then calculate the empirical variance and compare with the true result."
   ]
  },
  {
   "cell_type": "markdown",
   "metadata": {},
   "source": [
    "## Exact Solution:"
   ]
  },
  {
   "cell_type": "markdown",
   "metadata": {},
   "source": [
    "To find the variance of the Ito integral...\n",
    "\n",
    "$$ \\int_{0}^{2} e^{B_s}dB_s, $$\n",
    "\n",
    "we take...\n",
    "\n",
    "$$ \\text{Var} \\left( \\int_{0}^{t} e^{B_s}dB_s \\right) = \\mathbb{E} \\left[ \\left( \\int_{0}^{t} e^{B_s} dB_s \\right)^2 \\right] - \\left( \\mathbb{E} \\left[ \\int_{0}^{t} e^{B_s} dB_s \\right] \\right)^2. $$\n",
    "\n",
    "However, we know that...\n",
    "\n",
    "$$ \\mathbb{E} \\left[ \\int_{0}^{t} e^{B_s} dB_s \\right] = 0, $$\n",
    "\n",
    "so we are left with...\n",
    "\n",
    "$$ \\text{Var} \\left( \\int_{0}^{t} e^{B_s}dB_s \\right) = \\mathbb{E} \\left[ \\left( \\int_{0}^{t} e^{B_s} dB_s \\right)^2 \\right] $$\n",
    "\n",
    "$$ = \\mathbb{E} \\left[ \\int_{0}^{t} e^{2B_s} dB_s \\right] $$\n",
    "\n",
    "$$ = \\int_{0}^{t} \\mathbb{E} \\left[ e^{2B_s} \\right] dB_s $$\n",
    "\n",
    "$$ = \\int_{0}^{t} e^{2s} dB_s $$\n",
    "\n",
    "$$ = \\frac{1}{2} \\left(e^{2t} - 1 \\right) $$\n",
    "\n",
    "For $t=2$, we find...\n",
    "\n",
    "$$ \\text{Var} \\left( \\int_{0}^{2} e^{B_s}dB_s \\right) =  \\frac{1}{2} \\left( e^{4} - 1 \\right) \\approx 26.7991$$"
   ]
  },
  {
   "cell_type": "markdown",
   "metadata": {},
   "source": [
    "## Simulation:"
   ]
  },
  {
   "cell_type": "markdown",
   "metadata": {},
   "source": [
    "We will approximate the Ito integral...\n",
    "\n",
    "$$\\int_{0}^{2} e^{B_s}dB_s \\approx \\sum_{k=1}^{n} e^{B_{t_{k-1}}}(B_{t_k} - B_{t_{k-1}})$$\n",
    "\n",
    "for $t_k = 0.01k$, which gives us $n = 200$ in the interval $[0,2]$.\n",
    "\n",
    "To simplify our simulation, we note that the increment $B_{t_k}-B_{t_{k-1}} = Z_k\\sqrt{\\frac{t}{n}}$ for standard Normal RVs $Z_1,Z_2,\\dots,Z_n$."
   ]
  },
  {
   "cell_type": "code",
   "execution_count": 1,
   "metadata": {},
   "outputs": [],
   "source": [
    "import numpy as np\n",
    "import math\n",
    "import matplotlib.pyplot as plt"
   ]
  },
  {
   "cell_type": "code",
   "execution_count": 2,
   "metadata": {},
   "outputs": [
    {
     "data": {
      "text/plain": [
       "25.294468688142498"
      ]
     },
     "execution_count": 2,
     "metadata": {},
     "output_type": "execute_result"
    }
   ],
   "source": [
    "# t = end of interval in [0,t]\n",
    "# n = number of increments between 0 and t\n",
    "# N = number of simulations\n",
    "\n",
    "def itoApprox(t,n):\n",
    "    dt = t/n\n",
    "    bIncrements = np.random.normal(0,1,n)*math.sqrt(dt)\n",
    "    bPath = np.cumsum(bIncrements)\n",
    "    bPath = np.insert(bPath,0,0)\n",
    "    ito = 0\n",
    "    for k in range(n):\n",
    "        ito += math.exp(bPath[k])*bIncrements[k]\n",
    "    return ito\n",
    "\n",
    "def itoSim(N):\n",
    "    np.random.seed(10)\n",
    "    itoApproxs = [itoApprox(2,200) for i in range(N)]\n",
    "    empVar = np.var(itoApproxs,ddof=1)\n",
    "    return empVar\n",
    "\n",
    "itoSim(1000)"
   ]
  },
  {
   "cell_type": "markdown",
   "metadata": {},
   "source": [
    "Simulated above, our empirical variance of the Ito integral is about $25.2945$. We note that this value is very close to our calculated true value of $26.7991$."
   ]
  },
  {
   "cell_type": "code",
   "execution_count": null,
   "metadata": {},
   "outputs": [],
   "source": []
  }
 ],
 "metadata": {
  "kernelspec": {
   "display_name": "Python 3",
   "language": "python",
   "name": "python3"
  },
  "language_info": {
   "codemirror_mode": {
    "name": "ipython",
    "version": 3
   },
   "file_extension": ".py",
   "mimetype": "text/x-python",
   "name": "python",
   "nbconvert_exporter": "python",
   "pygments_lexer": "ipython3",
   "version": "3.7.3"
  }
 },
 "nbformat": 4,
 "nbformat_minor": 2
}
