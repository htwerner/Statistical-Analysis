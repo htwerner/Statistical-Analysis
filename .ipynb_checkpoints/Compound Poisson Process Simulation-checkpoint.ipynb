{
 "cells": [
  {
   "cell_type": "markdown",
   "metadata": {},
   "source": [
    "# Compound Poisson Process Simulation"
   ]
  },
  {
   "cell_type": "markdown",
   "metadata": {},
   "source": [
    "We'll simulate 1000 times the first 50 jumps of a compound Poisson process $(C_t)_{t\\geq0}$ with increments $Z_1, Z_2, ...$ distributed as $N(2.5, 4)$, and intensity $\\lambda$ = 0.5. We'll then use this to find empirical value $Var[C_4]$, and compare this with the true value.\n",
    "\n",
    "Our solution will include two functions.\n",
    "\n",
    "The first computes the compound Poisson process $(C_t)_{t\\geq0}$, sampling from $N(2.5, 4)$ for our increments $Z_1, Z_2, ...$ and sampling from $Exp(1/\\lambda)$ for our interarrival times $X_1, X_2, ...$.\n",
    "\n",
    "The second function simulates the compPP() function above 1000 times, finds $C_4$ for each simulation, and then calculates the empirical variance of the sample."
   ]
  },
  {
   "cell_type": "code",
   "execution_count": 1,
   "metadata": {},
   "outputs": [],
   "source": [
    "import numpy as np\n",
    "import math\n",
    "import matplotlib.pyplot as plt"
   ]
  },
  {
   "cell_type": "code",
   "execution_count": 2,
   "metadata": {},
   "outputs": [
    {
     "name": "stdout",
     "output_type": "stream",
     "text": [
      "20.52767013342382\n"
     ]
    }
   ],
   "source": [
    "def compPP(lda):\n",
    "    s = 0\n",
    "    c = 0\n",
    "    t = 0\n",
    "    xArray = np.random.exponential(1/lda,50)\n",
    "    zArray = np.random.normal(2.5,2,50)\n",
    "    sArray = []\n",
    "    cArray = []\n",
    "    for x,z in zip(xArray,zArray):\n",
    "        s += x\n",
    "        c += z\n",
    "        sArray.append(s)\n",
    "        cArray.append(c)\n",
    "    return sArray, cArray\n",
    "    \n",
    "def compSim(lda):\n",
    "    np.random.seed(0)\n",
    "    c4Array = []\n",
    "    for i in range(1000):\n",
    "        pp = compPP(lda)\n",
    "        sArray = pp[0]\n",
    "        cArray = pp[1]\n",
    "        c = 0\n",
    "        for i in range(len(sArray)):\n",
    "            s = sArray[i]\n",
    "            if s < 4:\n",
    "                c = cArray[i]\n",
    "            else:\n",
    "                break\n",
    "        c4Array.append(c)\n",
    "    varC4 = np.var(c4Array,ddof=1)\n",
    "    return varC4\n",
    "\n",
    "print(compSim(0.5))"
   ]
  },
  {
   "cell_type": "markdown",
   "metadata": {},
   "source": [
    "Given the equations...\n",
    "\n",
    "$$\\mathbb{E}[C_t] = \\mathbb{E}[N_t]\\mathbb{E}[Z_k]$$\n",
    "$$\\mathbb{V}ar[C_t] = \\mathbb{E}[N_t]\\mathbb{V}ar[Z_k] + \\mathbb{V}ar[N_t]\\mathbb{E}[Z_k]^2$$\n",
    "\n",
    "...we can calculate, for $\\lambda$ = 0.5, $\\mathbb{E}[Z_k] = 2.5$, and $\\mathbb{V}ar[Z_k] = 4$...\n",
    "\n",
    "$$\\mathbb{V}ar[C_4] = [4\\lambda*4] + [4\\lambda*(2.5)^2]$$\n",
    "$$\\mathbb{V}ar[C_4] = 41\\lambda$$\n",
    "$$\\mathbb{V}ar[C_4] = 20.5$$\n",
    "\n",
    "As seen above, our simulation empirical variance is very similar to the true value we've calculated."
   ]
  },
  {
   "cell_type": "code",
   "execution_count": null,
   "metadata": {},
   "outputs": [],
   "source": []
  }
 ],
 "metadata": {
  "kernelspec": {
   "display_name": "Python 3",
   "language": "python",
   "name": "python3"
  },
  "language_info": {
   "codemirror_mode": {
    "name": "ipython",
    "version": 3
   },
   "file_extension": ".py",
   "mimetype": "text/x-python",
   "name": "python",
   "nbconvert_exporter": "python",
   "pygments_lexer": "ipython3",
   "version": "3.7.3"
  }
 },
 "nbformat": 4,
 "nbformat_minor": 2
}
