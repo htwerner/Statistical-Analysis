{
 "cells": [
  {
   "cell_type": "markdown",
   "metadata": {},
   "source": [
    "# Barrier Option Fair Price"
   ]
  },
  {
   "cell_type": "markdown",
   "metadata": {},
   "source": [
    "We'll find an empirical fair price of a barrier option which pays $\\$1$ if the price of a stock at some time until maturity $T = 2.5$ exceeds $K = 2$, if the initial price is $S_0 = 1.4$, and the volatility is $\\sigma = 0.4$. We'll use step size 0.01 and 1000 simulations."
   ]
  },
  {
   "cell_type": "markdown",
   "metadata": {},
   "source": [
    "## Simulation:"
   ]
  },
  {
   "cell_type": "markdown",
   "metadata": {},
   "source": [
    "To calculate an empirical fair price of this option, we must find the expected payoff of the option over the course of the 1000 simulations.\n",
    "\n",
    "To do this, we will use the stockPrices() function, which will simulate the stock price using Geometric Brownian Motion. We will use the function fairPriceSim() to run 1000 simulations and calculate our fair price. We will find the maximum stock price of each simulation to see if the price exceeded $K=2$. If it did, then we assign the simulation a payoff of $\\$1$; otherwise, we assign it a payoff of $\\$0$. After doing this for all 1000 simulations, we find our empirical fair price by dividing the sum of these payoffs by the total number of trials."
   ]
  },
  {
   "cell_type": "code",
   "execution_count": 5,
   "metadata": {},
   "outputs": [],
   "source": [
    "import numpy as np\n",
    "import math\n",
    "import matplotlib.pyplot as plt"
   ]
  },
  {
   "cell_type": "code",
   "execution_count": 6,
   "metadata": {},
   "outputs": [
    {
     "data": {
      "text/plain": [
       "0.466"
      ]
     },
     "execution_count": 6,
     "metadata": {},
     "output_type": "execute_result"
    }
   ],
   "source": [
    "def stockPrices(t,N,initPrice,mu,sig):\n",
    "    step = t/N\n",
    "    Z_array = np.random.normal(0,1,N)\n",
    "    Y_array = [math.exp((sig*math.sqrt(step)*Z_array[i]) + (mu*step)) for i in range(N)]\n",
    "    daily_prices = [initPrice]\n",
    "    i = 0\n",
    "    for Y in Y_array:\n",
    "        newPrice = daily_prices[i]*Y\n",
    "        daily_prices.append(newPrice)\n",
    "        i += 1\n",
    "    return daily_prices\n",
    "\n",
    "def fairPriceSim():\n",
    "    np.random.seed(0)\n",
    "    K = 2\n",
    "    t = 2.5\n",
    "    N = 250\n",
    "    initPrice = 1.4\n",
    "    mu = -((0.4)**2)/2\n",
    "    sig = 0.4\n",
    "    payoffs = []\n",
    "    for i in range(1000):\n",
    "        payoff = 0\n",
    "        prices = stockPrices(t,N,initPrice,mu,sig)\n",
    "        if max(prices)>K:\n",
    "            payoff = 1\n",
    "        payoffs.append(payoff)\n",
    "    fairPrice = sum(payoffs)/len(payoffs)\n",
    "    return fairPrice\n",
    "\n",
    "fairPriceSim()"
   ]
  },
  {
   "cell_type": "markdown",
   "metadata": {},
   "source": [
    "As simulated above, an empirical fair price for this barrier option is $\\$0.466$."
   ]
  },
  {
   "cell_type": "code",
   "execution_count": null,
   "metadata": {},
   "outputs": [],
   "source": []
  }
 ],
 "metadata": {
  "kernelspec": {
   "display_name": "Python 3",
   "language": "python",
   "name": "python3"
  },
  "language_info": {
   "codemirror_mode": {
    "name": "ipython",
    "version": 3
   },
   "file_extension": ".py",
   "mimetype": "text/x-python",
   "name": "python",
   "nbconvert_exporter": "python",
   "pygments_lexer": "ipython3",
   "version": "3.7.3"
  }
 },
 "nbformat": 4,
 "nbformat_minor": 2
}
