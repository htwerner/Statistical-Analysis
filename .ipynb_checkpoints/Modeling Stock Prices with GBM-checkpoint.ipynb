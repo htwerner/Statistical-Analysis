{
 "cells": [
  {
   "cell_type": "markdown",
   "metadata": {},
   "source": [
    "# Modeling Stock Prices with GBM"
   ]
  },
  {
   "cell_type": "markdown",
   "metadata": {},
   "source": [
    "The price of a stock can be modeled as a geometric Brownian motion. Suppose we have a stock with drift $\\mu = -0.85$ and variance $\\sigma^2 = 2.4$. If the current price is $\\$50$, we'll find the probability that the price is under $\\$40$ in 2 years.\n",
    "\n",
    "We'll simulate the stock price and compare our empirical probability with the exact value based on the GBM model."
   ]
  },
  {
   "cell_type": "markdown",
   "metadata": {},
   "source": [
    "## Calculated solution:"
   ]
  },
  {
   "cell_type": "markdown",
   "metadata": {},
   "source": [
    "For real $\\mu$ and $\\sigma > 0$, the process defined by $X_t = \\mu t + \\sigma B_t$, for $t \\geq 0$, is called Brownian motion with drift parameter $\\mu$, variance parameter $\\sigma^2$, and $B_t \\sim N(0,t)$.\n",
    "\n",
    "Given $(X_t)_{t \\geq 0}$, the geometric process $(G_t)_{t \\geq 0}$ is defined by $G_t = G_0 e^{X_t}$, for $t \\geq 0$.\n",
    "\n",
    "Let $Y_t$ denote the price of the stock after $t$ years. Then, for $G_0 = 50$...\n",
    "\n",
    "$$X_2 = 2\\mu + \\sigma B_2$$\n",
    "\n",
    "and...\n",
    "\n",
    "$$\\mathbb{P}(Y_2 < 40) = \\mathbb{P}(50e^{2\\mu + \\sigma B_2} < 40)$$\n",
    "$$ = \\mathbb{P}((2*-0.85) + (\\sqrt{2.4}*B_2) < ln(0.8))$$\n",
    "$$ = \\mathbb{P}\\left( B_2 < \\frac{ln(0.8)+1.7}{\\sqrt{2.4}} \\right)$$\n",
    "$$ = \\mathbb{P}(B_2 < 0.953307)$$\n",
    "$$ = 0.749873$$"
   ]
  },
  {
   "cell_type": "markdown",
   "metadata": {},
   "source": [
    "## Simulation:"
   ]
  },
  {
   "cell_type": "markdown",
   "metadata": {},
   "source": [
    "For $0 = t_0 < t_1 < t_2 < \\dots < t_k$, define $Y_i = G(t_i)/G(t_{i-1})$, $i \\in \\{1,2,\\dots,k\\}$.\n",
    "\n",
    "Then we have...\n",
    "$$ G(t_1) = G(0) Y_1 $$\n",
    "$$ G(t_2) = G(t_1)Y_2 = G_0 Y_1 Y_2 $$\n",
    "$$ \\vdots $$\n",
    "$$ G(t_k) = G(t_{k-1}) Y_k = G_0 Y_1 Y_2 \\dots Y_k $$\n",
    "\n",
    "where the $Y_i$ are constructed by generating $k$ i.i.d. standard normal RVs, $Z_1,Z_2,\\dots,Z_k$ and calculating...\n",
    "\n",
    "$$Y_i = e^{\\sigma \\sqrt{t_i - t_{i-1}}Z_i + \\mu(t_i - t_{i-1})}, i \\in \\{1,2,\\dots,k\\}.$$\n",
    "\n",
    "To simulate in $[0,t]$ for $t=2$, we will simulate the stock at daily intervals, so we will break the interval into $730$ subintervals of length $1/365$ where $t_i = \\frac{i}{365}$.\n",
    "\n",
    "We use the $Y_i$ and our recursive formula above to calculate our daily stock prices, simulating the values 10000 times and calculating the empirical probability of the price being under $\\$40$ after 2 years.\n",
    "\n",
    "The function stockPrices() will simulate the stock price using Geometric Brownian Motion. The function stockSim() will run this simulation 1000 times, take the price at time 2 of each simulation, and then calculate the empirical probability using these results."
   ]
  },
  {
   "cell_type": "code",
   "execution_count": 1,
   "metadata": {},
   "outputs": [],
   "source": [
    "import numpy as np\n",
    "import math\n",
    "import matplotlib.pyplot as plt"
   ]
  },
  {
   "cell_type": "code",
   "execution_count": 2,
   "metadata": {},
   "outputs": [
    {
     "data": {
      "text/plain": [
       "0.7457"
      ]
     },
     "execution_count": 2,
     "metadata": {},
     "output_type": "execute_result"
    }
   ],
   "source": [
    "# t = time in years\n",
    "# N = number of subintervals between 0 and t\n",
    "# initPrice = initial price of the stock\n",
    "# mu = drift\n",
    "# sig = standard deviation, or volatility\n",
    "\n",
    "def stockPrices(t,N,initPrice,mu,sig):\n",
    "    step = t/N\n",
    "    Z_array = np.random.normal(0,1,N)\n",
    "    Y_array = [math.exp((sig*math.sqrt(step)*Z_array[i]) + (mu*step)) for i in range(N)]\n",
    "    daily_prices = [initPrice]\n",
    "    i = 0\n",
    "    for Y in Y_array:\n",
    "        newPrice = daily_prices[i]*Y\n",
    "        daily_prices.append(newPrice)\n",
    "        i += 1\n",
    "    return daily_prices\n",
    "\n",
    "def stockSim():\n",
    "    np.random.seed(0)\n",
    "    t = 2\n",
    "    N = 730\n",
    "    initPrice = 50\n",
    "    mu = -0.85\n",
    "    sig = math.sqrt(2.4)\n",
    "    last_prices = [stockPrices(t,N,initPrice,mu,sig)[-1] for i in range(10000)]\n",
    "    test_prices = [1 if p < 40 else 0 for p in last_prices]\n",
    "    prob = sum(test_prices)/len(test_prices)\n",
    "    return prob\n",
    "\n",
    "stockSim()"
   ]
  },
  {
   "cell_type": "markdown",
   "metadata": {},
   "source": [
    "Simulated above, our empirical probability of the stock price being under $\\$40$ in 2 years is 0.7457. We note that this value is very close to our calculated theoretical value of 0.749873."
   ]
  },
  {
   "cell_type": "code",
   "execution_count": null,
   "metadata": {},
   "outputs": [],
   "source": []
  }
 ],
 "metadata": {
  "kernelspec": {
   "display_name": "Python 3",
   "language": "python",
   "name": "python3"
  },
  "language_info": {
   "codemirror_mode": {
    "name": "ipython",
    "version": 3
   },
   "file_extension": ".py",
   "mimetype": "text/x-python",
   "name": "python",
   "nbconvert_exporter": "python",
   "pygments_lexer": "ipython3",
   "version": "3.7.3"
  }
 },
 "nbformat": 4,
 "nbformat_minor": 2
}
