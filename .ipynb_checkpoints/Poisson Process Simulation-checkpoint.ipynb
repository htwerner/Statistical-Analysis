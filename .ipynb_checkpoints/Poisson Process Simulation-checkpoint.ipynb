{
 "cells": [
  {
   "cell_type": "markdown",
   "metadata": {},
   "source": [
    "# Poisson Process Simulation"
   ]
  },
  {
   "cell_type": "markdown",
   "metadata": {},
   "source": [
    "First, we will simulate the first 50 jumps of a Poisson process $(N_t)_{t\\geq0}$ for a given $\\lambda$. We use the numpy.random.exponential() function to simulate each interarrival time $X_n$ and take note of both the arrival times, denoted $S_n$, and the number of arrivals at time $t$, denoted $N_t$.\n",
    "\n",
    "Second, we will simulate a Poisson process with $\\lambda = 2$ using our above PP($\\lambda$) function, 1000 times. We will grab $N_1$ and $N_2$ from each of the 1000 simulations, and then calculate the empirical expectation $\\mathbb{E}[N_1N_2].$\n",
    "\n",
    "Lastly, we will compare the empirical expectation with the true value."
   ]
  },
  {
   "cell_type": "code",
   "execution_count": 5,
   "metadata": {},
   "outputs": [],
   "source": [
    "import numpy as np\n",
    "import math\n",
    "import matplotlib.pyplot as plt"
   ]
  },
  {
   "cell_type": "code",
   "execution_count": 2,
   "metadata": {},
   "outputs": [
    {
     "data": {
      "text/plain": [
       "9.993"
      ]
     },
     "execution_count": 2,
     "metadata": {},
     "output_type": "execute_result"
    }
   ],
   "source": [
    "def PP(lda):\n",
    "    s = 0\n",
    "    t = 0\n",
    "    n = 0\n",
    "    snArray = [(s,n)]\n",
    "    tnDict = {t:n}\n",
    "    for i in range(50):\n",
    "        x = np.random.exponential((1/lda),1)[0]\n",
    "        s += x\n",
    "        while s > t + 1:\n",
    "            t += 1\n",
    "            tnDict[t] = n\n",
    "        n += 1\n",
    "        snArray.append((s,n))\n",
    "    return snArray,tnDict\n",
    "\n",
    "def simPP(lda):\n",
    "    np.random.seed(0)\n",
    "    n1n2Array = []\n",
    "    for i in range(1000):\n",
    "        ppArray = PP(lda)\n",
    "        tnDict = ppArray[1]\n",
    "        n1 = tnDict.get(1)\n",
    "        n2 = tnDict.get(2)\n",
    "        n1n2Array.append(n1*n2)\n",
    "    expecVal = sum(n1n2Array)/len(n1n2Array)\n",
    "    return expecVal\n",
    "\n",
    "simPP(2)"
   ]
  },
  {
   "cell_type": "markdown",
   "metadata": {},
   "source": [
    "Analytically, we know for $\\lambda = 2$...\n",
    "\n",
    "$$\\mathbb{E}[N_1N_2] = \\mathbb{E}[N_1(N_1+N_2-N_1)]$$\n",
    "$$= \\mathbb{E}[N_1^2] + \\mathbb{E}[N_1]\\mathbb{E}[N_2-N_1]$$\n",
    "$$= \\mathbb{V}ar[N_1] + \\mathbb{E}[N_1]^2 + \\mathbb{E}[N_1]\\mathbb{E}[N_1]$$\n",
    "$$= \\lambda + \\lambda^2 + (\\lambda*\\lambda)$$\n",
    "$$= \\lambda + 2\\lambda^2$$\n",
    "$$= 10$$\n",
    "\n",
    "Our empirical expectation in the above simulation gives us a number very close to $\\mathbb{E}[N_1N_2] = 10$ for each trial."
   ]
  },
  {
   "cell_type": "code",
   "execution_count": null,
   "metadata": {},
   "outputs": [],
   "source": []
  }
 ],
 "metadata": {
  "kernelspec": {
   "display_name": "Python 3",
   "language": "python",
   "name": "python3"
  },
  "language_info": {
   "codemirror_mode": {
    "name": "ipython",
    "version": 3
   },
   "file_extension": ".py",
   "mimetype": "text/x-python",
   "name": "python",
   "nbconvert_exporter": "python",
   "pygments_lexer": "ipython3",
   "version": "3.7.3"
  }
 },
 "nbformat": 4,
 "nbformat_minor": 2
}
