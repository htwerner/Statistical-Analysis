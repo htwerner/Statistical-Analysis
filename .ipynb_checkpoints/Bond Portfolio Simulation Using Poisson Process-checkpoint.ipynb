{
 "cells": [
  {
   "cell_type": "markdown",
   "metadata": {},
   "source": [
    "# Bond Portfolio Simulation Using Poisson Process"
   ]
  },
  {
   "cell_type": "markdown",
   "metadata": {},
   "source": [
    "Suppose investors purchase $\\$1000$ dollar bonds at the random times of a Poisson process with parameter $\\lambda$. If the interest rate is $r$, then the present value of an investment purchased at time t is $1000e^{−rt}$. Then the expected total present value of the bonds purchased by time $t$ is $1000(1−e^{−rt})\\frac{\\lambda}{r}$.\n",
    "\n",
    "We'll simulate the expected total present value of bonds, letting the interest rate be $4%$, the Poisson parameter $\\lambda$ = 50, and $t$ = 10. We'll then compare this with the exact value.\n",
    "\n",
    "Our solution will include the function expectedPV(), which will simulate a PP($\\lambda$) in $[0,t]$, calculate the present values of the bonds, and output the empirical expectation from the 1000 simulations.\n",
    "\n",
    "To simulate the PP($\\lambda$) in $[0,t]$, we will simulate $N$ number of arrivals from a Poisson($\\lambda$$t$) distribution, generate $N$ i.i.d. random variables from a Uniform($0,t$) distribution, and then sort those $N$ random variables in increasing order to give us the Poisson arrival times."
   ]
  },
  {
   "cell_type": "code",
   "execution_count": 1,
   "metadata": {},
   "outputs": [],
   "source": [
    "import numpy as np\n",
    "import math\n",
    "import matplotlib.pyplot as plt"
   ]
  },
  {
   "cell_type": "code",
   "execution_count": 2,
   "metadata": {},
   "outputs": [
    {
     "data": {
      "text/plain": [
       "416541.210518975"
      ]
     },
     "execution_count": 2,
     "metadata": {},
     "output_type": "execute_result"
    }
   ],
   "source": [
    "def expectedPV(r,lda,t):\n",
    "    np.random.seed(0)\n",
    "    pvArray = []\n",
    "    for i in range(1000):\n",
    "        n = np.random.poisson(lda*t)\n",
    "        sArray = np.random.uniform(0,t,n)\n",
    "        sArray.sort()\n",
    "        pvArray = []\n",
    "        pv = 0\n",
    "        for s in sArray:\n",
    "            pv += (1000*math.exp(-r*s))\n",
    "        pvArray.append(pv)\n",
    "    return sum(pvArray)/len(pvArray)\n",
    "expectedPV(0.04,50,10)"
   ]
  },
  {
   "cell_type": "markdown",
   "metadata": {},
   "source": [
    "Analytically, for $r$ = 0.04, $\\lambda$ = 50, and $t$ = 10...\n",
    "\n",
    "$$1000(1-e^{-rt})\\frac{\\lambda}{r} = 1250000(1-e^{-0.4}) = 412099.9425$$\n",
    "\n",
    "Thus, the expected total present value of the bonds purchased by time $t$ = 10 is $\\$412,099.94$. Our empirical expectation above gives us a very similar number with only 1000 simulations."
   ]
  },
  {
   "cell_type": "code",
   "execution_count": null,
   "metadata": {},
   "outputs": [],
   "source": []
  }
 ],
 "metadata": {
  "kernelspec": {
   "display_name": "Python 3",
   "language": "python",
   "name": "python3"
  },
  "language_info": {
   "codemirror_mode": {
    "name": "ipython",
    "version": 3
   },
   "file_extension": ".py",
   "mimetype": "text/x-python",
   "name": "python",
   "nbconvert_exporter": "python",
   "pygments_lexer": "ipython3",
   "version": "3.7.3"
  }
 },
 "nbformat": 4,
 "nbformat_minor": 2
}
